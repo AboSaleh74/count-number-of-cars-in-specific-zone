{
 "cells": [
  {
   "cell_type": "code",
   "execution_count": 91,
   "id": "d204435d",
   "metadata": {},
   "outputs": [],
   "source": [
    "from ultralytics import YOLO\n",
    "import supervision as sv\n",
    "import numpy as np\n",
    "import pandas as pd\n",
    "import cv2\n",
    "import matplotlib.pyplot as plt\n",
    "import os"
   ]
  },
  {
   "cell_type": "code",
   "execution_count": 4,
   "id": "00fbbb40",
   "metadata": {},
   "outputs": [],
   "source": [
    "model = YOLO('best.pt')"
   ]
  },
  {
   "cell_type": "code",
   "execution_count": 67,
   "id": "f9ff6bda",
   "metadata": {},
   "outputs": [],
   "source": [
    "video_path = \"D:AI/Top View Car Parked Place Disabled Stock Footage Video (100% Royalty-free) 1106163301.mp4\"\n",
    "\n",
    "generator = sv.get_video_frames_generator(video_path)\n",
    "iterator = iter(generator)\n",
    "frame = next(iterator)"
   ]
  },
  {
   "cell_type": "code",
   "execution_count": 69,
   "id": "055af39f",
   "metadata": {},
   "outputs": [
    {
     "data": {
      "text/plain": [
       "True"
      ]
     },
     "execution_count": 69,
     "metadata": {},
     "output_type": "execute_result"
    }
   ],
   "source": [
    "cv2.imwrite('first_frame.jpg',frame)"
   ]
  },
  {
   "cell_type": "code",
   "execution_count": 74,
   "id": "840030dd",
   "metadata": {},
   "outputs": [],
   "source": [
    "polygons = [\n",
    "    np.array([[74, 282], [891, 275], [887, 496], [74, 495]]),\n",
    "    np.array([[74, 150], [893, 140], [891, 17], [70, 33]])\n",
    "]\n",
    "zones = [sv.PolygonZone(polygon=polygon)\n",
    "        for polygon in polygons]"
   ]
  },
  {
   "cell_type": "code",
   "execution_count": 75,
   "id": "1adbe532",
   "metadata": {},
   "outputs": [],
   "source": [
    "zone_annotators = [sv.PolygonZoneAnnotator(zone=zone,color=sv.Color.BLUE,thickness=1,text_thickness=1,\n",
    "                                         text_scale=2)for _,zone in enumerate(zones)]\n",
    "box_annotators = [sv.BoxAnnotator(thickness=2) for _ in zones]\n"
   ]
  },
  {
   "cell_type": "code",
   "execution_count": 89,
   "id": "5b493df1",
   "metadata": {},
   "outputs": [],
   "source": [
    "def process_frame(frame: np.array,_) -> np.array:\n",
    "    results = model(frame,imgsz=1280)[0]\n",
    "    detections = sv.Detections.from_ultralytics(results)\n",
    "    \n",
    "    for zone , zone_annotator , box_annotator in zip (zones,zone_annotators,box_annotators):\n",
    "        mask = zone.trigger(detections=detections)\n",
    "        detection_filtered = detections[mask]\n",
    "        \n",
    "        frame = box_annotator.annotate(scene=frame,detections=detection_filtered)\n",
    "        frame = zone_annotator.annotate(scene=frame)\n",
    "    return frame"
   ]
  },
  {
   "cell_type": "code",
   "execution_count": 95,
   "id": "af858a87",
   "metadata": {},
   "outputs": [],
   "source": [
    "cap = cv2.VideoCapture(video_path)\n",
    "\n",
    "\n",
    "while cap.isOpened():\n",
    "    ret, frame = cap.read()\n",
    "    if not ret:\n",
    "        break\n",
    "\n",
    "    processed_frame = process_frame(frame, None)\n",
    "\n",
    "    cv2.imshow('Real-Time Video', processed_frame)\n",
    "\n",
    "    if cv2.waitKey(1) == ord('q'):\n",
    "        break\n",
    "\n",
    "cap.release()\n",
    "cv2.destroyAllWindows()\n",
    "\n",
    "from IPython.display import clear_output\n",
    "clear_output(wait=True)"
   ]
  },
  {
   "cell_type": "code",
   "execution_count": null,
   "id": "5d1501ce",
   "metadata": {},
   "outputs": [],
   "source": []
  },
  {
   "cell_type": "code",
   "execution_count": null,
   "id": "2cc27c1a",
   "metadata": {},
   "outputs": [],
   "source": []
  }
 ],
 "metadata": {
  "kernelspec": {
   "display_name": "Python 3 (ipykernel)",
   "language": "python",
   "name": "python3"
  },
  "language_info": {
   "codemirror_mode": {
    "name": "ipython",
    "version": 3
   },
   "file_extension": ".py",
   "mimetype": "text/x-python",
   "name": "python",
   "nbconvert_exporter": "python",
   "pygments_lexer": "ipython3",
   "version": "3.11.7"
  }
 },
 "nbformat": 4,
 "nbformat_minor": 5
}
